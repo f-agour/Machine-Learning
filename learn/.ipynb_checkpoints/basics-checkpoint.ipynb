{
 "cells": [
  {
   "cell_type": "code",
   "execution_count": 10,
   "id": "b0a92d81-1d80-4968-a038-f24ff642e193",
   "metadata": {},
   "outputs": [],
   "source": [
    "# NumPY - Arrays"
   ]
  },
  {
   "cell_type": "code",
   "execution_count": 11,
   "id": "d9772389-946d-43d2-b47c-996594559997",
   "metadata": {},
   "outputs": [],
   "source": [
    "import numpy as np\n",
    "l = [1,2,3] "
   ]
  },
  {
   "cell_type": "code",
   "execution_count": 13,
   "id": "7c752a11-70c7-4f28-9e47-fab5cf582d1e",
   "metadata": {},
   "outputs": [],
   "source": [
    "arr = np.array(l)"
   ]
  },
  {
   "cell_type": "code",
   "execution_count": 14,
   "id": "17a385f7-124e-4901-8287-7142de457976",
   "metadata": {},
   "outputs": [
    {
     "data": {
      "text/plain": [
       "array([1, 2, 3])"
      ]
     },
     "execution_count": 14,
     "metadata": {},
     "output_type": "execute_result"
    }
   ],
   "source": [
    "arr"
   ]
  },
  {
   "cell_type": "code",
   "execution_count": 2,
   "id": "ed344961-9b09-4a3c-a456-72aa72230234",
   "metadata": {},
   "outputs": [],
   "source": [
    "matr = [[1,2,3],[4,5,6],[7,8,9]]"
   ]
  },
  {
   "cell_type": "code",
   "execution_count": null,
   "id": "f5cb725b-5c77-4461-88ac-e73c93f56ca5",
   "metadata": {},
   "outputs": [],
   "source": []
  }
 ],
 "metadata": {
  "kernelspec": {
   "display_name": "Python 3 (ipykernel)",
   "language": "python",
   "name": "python3"
  },
  "language_info": {
   "codemirror_mode": {
    "name": "ipython",
    "version": 3
   },
   "file_extension": ".py",
   "mimetype": "text/x-python",
   "name": "python",
   "nbconvert_exporter": "python",
   "pygments_lexer": "ipython3",
   "version": "3.8.19"
  }
 },
 "nbformat": 4,
 "nbformat_minor": 5
}
