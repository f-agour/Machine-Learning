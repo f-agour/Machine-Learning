{
 "cells": [
  {
   "cell_type": "code",
   "execution_count": 1,
   "id": "b0a92d81-1d80-4968-a038-f24ff642e193",
   "metadata": {},
   "outputs": [],
   "source": [
    "# NumPY - Arrays"
   ]
  },
  {
   "cell_type": "code",
   "execution_count": 2,
   "id": "d9772389-946d-43d2-b47c-996594559997",
   "metadata": {},
   "outputs": [],
   "source": [
    "import numpy as np"
   ]
  },
  {
   "cell_type": "code",
   "execution_count": 3,
   "id": "ed344961-9b09-4a3c-a456-72aa72230234",
   "metadata": {},
   "outputs": [],
   "source": [
    "matr = [1,2,3,4,5,6,7,8,9]"
   ]
  },
  {
   "cell_type": "code",
   "execution_count": 4,
   "id": "3371334e-fbbe-4a5f-9a1e-2ac1330186ac",
   "metadata": {},
   "outputs": [],
   "source": [
    "matr = np.array(matr)"
   ]
  },
  {
   "cell_type": "code",
   "execution_count": 5,
   "id": "b254fb48-b146-4944-92b7-256344610112",
   "metadata": {},
   "outputs": [
    {
     "data": {
      "text/plain": [
       "array([0, 1, 2, 3, 4, 5, 6, 7, 8, 9])"
      ]
     },
     "execution_count": 5,
     "metadata": {},
     "output_type": "execute_result"
    }
   ],
   "source": [
    "np.arange(0,10)"
   ]
  },
  {
   "cell_type": "code",
   "execution_count": 6,
   "id": "0d4e2fed-6b39-4ba2-a6c3-af86b75bc734",
   "metadata": {},
   "outputs": [
    {
     "data": {
      "text/plain": [
       "array([[0., 0., 0., 0.],\n",
       "       [0., 0., 0., 0.],\n",
       "       [0., 0., 0., 0.],\n",
       "       [0., 0., 0., 0.]])"
      ]
     },
     "execution_count": 6,
     "metadata": {},
     "output_type": "execute_result"
    }
   ],
   "source": [
    "np.zeros((4,4))"
   ]
  },
  {
   "cell_type": "code",
   "execution_count": 7,
   "id": "98d3baaa-2066-411b-a60d-c05ed7b357ee",
   "metadata": {},
   "outputs": [
    {
     "data": {
      "text/plain": [
       "array([0. , 0.8, 1.6, 2.4, 3.2, 4. ])"
      ]
     },
     "execution_count": 7,
     "metadata": {},
     "output_type": "execute_result"
    }
   ],
   "source": [
    "np.linspace(0,4,6)"
   ]
  },
  {
   "cell_type": "code",
   "execution_count": 8,
   "id": "388b346e-7d9b-426c-afd7-c7f3eaf9a7e3",
   "metadata": {},
   "outputs": [
    {
     "data": {
      "text/plain": [
       "array([[-1.55476493,  0.31979585],\n",
       "       [ 0.01588376,  0.49391543],\n",
       "       [ 0.31599842,  0.4201711 ],\n",
       "       [-0.53881122,  1.46311146]])"
      ]
     },
     "execution_count": 8,
     "metadata": {},
     "output_type": "execute_result"
    }
   ],
   "source": [
    "np.random.randn(4,2)"
   ]
  },
  {
   "cell_type": "code",
   "execution_count": 9,
   "id": "597172f7-0c12-4ed9-8172-d776799165a0",
   "metadata": {},
   "outputs": [],
   "source": [
    "myarr = np.random.randint(1,50,15) #1-dim "
   ]
  },
  {
   "cell_type": "code",
   "execution_count": 10,
   "id": "a942d9b2-8510-4551-805a-a130badd9c8d",
   "metadata": {},
   "outputs": [
    {
     "data": {
      "text/plain": [
       "1"
      ]
     },
     "execution_count": 10,
     "metadata": {},
     "output_type": "execute_result"
    }
   ],
   "source": [
    "myarr.max();myarr.min() #value"
   ]
  },
  {
   "cell_type": "code",
   "execution_count": 11,
   "id": "b943ff00-7561-45bf-aa7a-953e11a694a5",
   "metadata": {},
   "outputs": [
    {
     "data": {
      "text/plain": [
       "1"
      ]
     },
     "execution_count": 11,
     "metadata": {},
     "output_type": "execute_result"
    }
   ],
   "source": [
    "myarr.argmax();myarr.argmin() #index "
   ]
  },
  {
   "cell_type": "code",
   "execution_count": 12,
   "id": "6802ec48-c6a3-481c-bc76-cd174925625f",
   "metadata": {},
   "outputs": [],
   "source": [
    "rearr = myarr.reshape(5,3) #reshape the 1-dim to any"
   ]
  },
  {
   "cell_type": "code",
   "execution_count": 13,
   "id": "d44fabe8-c997-4135-8215-87205f644026",
   "metadata": {},
   "outputs": [
    {
     "data": {
      "text/plain": [
       "(5, 3)"
      ]
     },
     "execution_count": 13,
     "metadata": {},
     "output_type": "execute_result"
    }
   ],
   "source": [
    "rearr.shape"
   ]
  },
  {
   "cell_type": "code",
   "execution_count": 14,
   "id": "e6cb3ee1-2f68-47f7-9d9c-5851b831ff9d",
   "metadata": {},
   "outputs": [
    {
     "data": {
      "text/plain": [
       "dtype('int32')"
      ]
     },
     "execution_count": 14,
     "metadata": {},
     "output_type": "execute_result"
    }
   ],
   "source": [
    "rearr.dtype"
   ]
  },
  {
   "cell_type": "code",
   "execution_count": 15,
   "id": "da9b7054-7e9d-4f98-9a90-7c2dae8b2160",
   "metadata": {},
   "outputs": [
    {
     "data": {
      "text/plain": [
       "array([9, 8, 7, 6, 5, 4, 3, 2, 1])"
      ]
     },
     "execution_count": 15,
     "metadata": {},
     "output_type": "execute_result"
    }
   ],
   "source": [
    "matr[::-1]"
   ]
  },
  {
   "cell_type": "code",
   "execution_count": 16,
   "id": "2d9775ea-6f45-4638-8394-55a52721684d",
   "metadata": {},
   "outputs": [],
   "source": [
    "slice = matr[0:4] "
   ]
  },
  {
   "cell_type": "code",
   "execution_count": 17,
   "id": "b2378f36-68a5-4e0d-9383-d7133ba3bda0",
   "metadata": {},
   "outputs": [],
   "source": [
    "slice[:] = 2"
   ]
  },
  {
   "cell_type": "code",
   "execution_count": 18,
   "id": "1f0e3327-3800-41f8-8d92-5fd49de12d30",
   "metadata": {},
   "outputs": [
    {
     "data": {
      "text/plain": [
       "array([2, 2, 2, 2])"
      ]
     },
     "execution_count": 18,
     "metadata": {},
     "output_type": "execute_result"
    }
   ],
   "source": [
    "slice"
   ]
  },
  {
   "cell_type": "code",
   "execution_count": 19,
   "id": "5ebd4752-b727-49cc-91d6-e264d726dd2e",
   "metadata": {},
   "outputs": [
    {
     "data": {
      "text/plain": [
       "array([2, 2, 2, 2, 5, 6, 7, 8, 9])"
      ]
     },
     "execution_count": 19,
     "metadata": {},
     "output_type": "execute_result"
    }
   ],
   "source": [
    "matr #لاحظ سمعت ف arr الاصليه    so we use arr.copy() "
   ]
  },
  {
   "cell_type": "code",
   "execution_count": 20,
   "id": "89019488-f212-4ede-9f1c-c8cc567c4d82",
   "metadata": {},
   "outputs": [],
   "source": [
    "arr2d = np.array([[12,33,67],[44,2,78],[0,3,22]])"
   ]
  },
  {
   "cell_type": "code",
   "execution_count": 21,
   "id": "ae141a53-7867-47d5-a6fd-9e7e41538c8a",
   "metadata": {},
   "outputs": [
    {
     "data": {
      "text/plain": [
       "78"
      ]
     },
     "execution_count": 21,
     "metadata": {},
     "output_type": "execute_result"
    }
   ],
   "source": [
    "arr2d[1][2] # arr2d[1,2]"
   ]
  },
  {
   "cell_type": "code",
   "execution_count": 22,
   "id": "a4f4955f-6303-471b-a431-fe5d09726318",
   "metadata": {},
   "outputs": [
    {
     "data": {
      "text/plain": [
       "array([[44,  2, 78]])"
      ]
     },
     "execution_count": 22,
     "metadata": {},
     "output_type": "execute_result"
    }
   ],
   "source": [
    "arr2d[1:2 , 0:]"
   ]
  },
  {
   "cell_type": "code",
   "execution_count": 23,
   "id": "4962ed13-7b64-4c19-94a9-c1e546ebb354",
   "metadata": {},
   "outputs": [
    {
     "data": {
      "text/plain": [
       "array([12, 33, 67, 44, 78, 22])"
      ]
     },
     "execution_count": 23,
     "metadata": {},
     "output_type": "execute_result"
    }
   ],
   "source": [
    "arr2d > 5 ; arr2d[arr2d > 5]   # compare and return False/True ; return elements"
   ]
  },
  {
   "cell_type": "code",
   "execution_count": 24,
   "id": "deb3de16-579d-42ea-94fe-a0bdc9fb4e8a",
   "metadata": {},
   "outputs": [
    {
     "data": {
      "text/plain": [
       "array([[ 24,  66, 134],\n",
       "       [ 88,   4, 156],\n",
       "       [  0,   6,  44]])"
      ]
     },
     "execution_count": 24,
     "metadata": {},
     "output_type": "execute_result"
    }
   ],
   "source": [
    " arr2d + arr2d"
   ]
  },
  {
   "cell_type": "code",
   "execution_count": null,
   "id": "1425d52e-eeb4-4cfb-9aa6-3ba8998d5906",
   "metadata": {},
   "outputs": [],
   "source": []
  }
 ],
 "metadata": {
  "kernelspec": {
   "display_name": "Python 3 (ipykernel)",
   "language": "python",
   "name": "python3"
  },
  "language_info": {
   "codemirror_mode": {
    "name": "ipython",
    "version": 3
   },
   "file_extension": ".py",
   "mimetype": "text/x-python",
   "name": "python",
   "nbconvert_exporter": "python",
   "pygments_lexer": "ipython3",
   "version": "3.8.19"
  }
 },
 "nbformat": 4,
 "nbformat_minor": 5
}
